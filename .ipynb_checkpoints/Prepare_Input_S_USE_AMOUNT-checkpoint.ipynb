{
 "cells": [
  {
   "cell_type": "markdown",
   "metadata": {},
   "source": [
    "# Read TWDB water use excel files and prepare them for WaDE tables"
   ]
  },
  {
   "cell_type": "markdown",
   "metadata": {},
   "source": [
    "# WaDE \n",
    "http://wade.westernstateswater.org/"
   ]
  },
  {
   "cell_type": "code",
   "execution_count": 7,
   "metadata": {
    "collapsed": false
   },
   "outputs": [
    {
     "name": "stdout",
     "output_type": "stream",
     "text": [
      "The Python 2.7 libraries are imported\n"
     ]
    }
   ],
   "source": [
    "# Import libraries\n",
    "import xlsxwriter\n",
    "import xlrd as excel\n",
    "from openpyxl import load_workbook\n",
    "\n",
    "print 'The Python 2.7 libraries are imported'"
   ]
  },
  {
   "cell_type": "markdown",
   "metadata": {},
   "source": [
    "# Read the input files, prepare it, then export them to excel "
   ]
  },
  {
   "cell_type": "markdown",
   "metadata": {},
   "source": [
    "# Map the TWDB headers to WaDE excel headers\n",
    "\n",
    "ORGANIZATION_ID  \n",
    "REPORT_ID  \n",
    "REPORT_UNIT_ID  \n",
    "BENEFICIAL_USE_ID  \n",
    "SUMMARY_SEQ  \n",
    "ROW_SEQ  \n",
    "AMOUNT  \n",
    "CONSUMPTIVE_INDICATOR  \n",
    "METHOD_ID  \n",
    "START_DATE  \n",
    "END_DATE  \n",
    "\n"
   ]
  },
  {
   "cell_type": "code",
   "execution_count": 9,
   "metadata": {
    "collapsed": false
   },
   "outputs": [
    {
     "name": "stderr",
     "output_type": "stream",
     "text": [
      "C:\\Users\\Adel\\Anaconda2\\lib\\site-packages\\ipykernel\\__main__.py:38: DeprecationWarning: Call to deprecated function get_sheet_by_name (Use wb[sheetname]).\n"
     ]
    }
   ],
   "source": [
    "\n",
    "\n",
    "full_path = 'TWDB_WaDE_ReadyInput.xlsx'\n",
    "workbook1 = xlsxwriter.Workbook(full_path)\n",
    "\n",
    "cell_format_field_name = workbook1.add_format()\n",
    "cell_format_field_name.set_font_size(14)\n",
    "cell_format_field_name.set_bold()\n",
    "\n",
    "\n",
    "\n",
    "workbook1.add_worksheet('SumFinal_BasinReportWithReuse')\n",
    "workbook1.close()\n",
    "\n",
    "##########################################################\n",
    "\n",
    "book = excel.open_workbook('SumFinal_BasinReportWithReuse.xlsx')\n",
    "# //////////////////////////////////////////////////////////////////////////////////////////////\n",
    "# verify that the input file is a TWDB file\n",
    "try:\n",
    "    input_sheet = book.sheet_by_name('SumFinal_BasinReportWithReuse')\n",
    "except:\n",
    "    raise Exception('Input sheet {} not found in the provided Excel file \\n Please select valid excel file'.format('SumFinal_BasinReportWithReuse'))\n",
    "# //////////////////////////////////////////////////////////////////////////////////////////////\n",
    "\n",
    "\n",
    "# get total cells of input sheet.\n",
    "rows = [rows for rows in input_sheet.get_rows()]\n",
    "\n",
    "# get headers\n",
    "headers = rows[1][9:]\n",
    "\n",
    "# get values\n",
    "data = [row[0:] for row in rows[2:]]\n",
    "\n",
    "data_to_write = []\n",
    "\n",
    "# open sheet to write new xlsx\n",
    "workbook = load_workbook(full_path)\n",
    "sheet = workbook.get_sheet_by_name('SumFinal_BasinReportWithReuse')\n",
    "\n",
    "# ready data to write\n",
    "# First, loop through the headers\n",
    "\n",
    "# the data starts in columns after column# 9 \n",
    "\n",
    "for i in range(len(headers)):\n",
    "    for j, d in enumerate(data):\n",
    "        data_to_write_temp = [str(int(d[0].value)), d[1].value, headers[i].value, str(d[i + 9].value)]\n",
    "        data_to_write.append(data_to_write_temp)\n",
    "\n",
    "# the data starts in row after row #2 \n",
    "\n",
    "\n",
    "\n",
    "\n",
    "\n",
    "\n",
    "#write to excel\n",
    "for rowID, row in enumerate(data_to_write):\n",
    "    for colID, cell in enumerate(row):\n",
    "        try:\n",
    "            sheet.cell(row=rowID + 3, column=colID + 1, value=unicode(cell))\n",
    "        except Exception as e:\n",
    "            raise Exception(e)\n",
    "\n",
    "workbook.save(full_path)\n",
    "\n",
    "\n"
   ]
  },
  {
   "cell_type": "code",
   "execution_count": null,
   "metadata": {
    "collapsed": true
   },
   "outputs": [],
   "source": []
  }
 ],
 "metadata": {
  "kernelspec": {
   "display_name": "Python 2",
   "language": "python",
   "name": "python2"
  },
  "language_info": {
   "codemirror_mode": {
    "name": "ipython",
    "version": 2
   },
   "file_extension": ".py",
   "mimetype": "text/x-python",
   "name": "python",
   "nbconvert_exporter": "python",
   "pygments_lexer": "ipython2",
   "version": "2.7.13"
  }
 },
 "nbformat": 4,
 "nbformat_minor": 2
}
